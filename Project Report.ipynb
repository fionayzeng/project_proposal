{
 "cells": [
  {
   "cell_type": "markdown",
   "id": "ffcd1b8e-d081-413e-b774-7e2cc11ffaaf",
   "metadata": {},
   "source": [
    "# Title\n",
    "### Analyzing the knowledge of users using the degree of study time for goal materials and exam performances of goal objects as predictors. "
   ]
  },
  {
   "cell_type": "markdown",
   "id": "eab58580-7295-46a0-a6aa-d24c805e45f3",
   "metadata": {},
   "source": [
    "# Introduction\n",
    "\n",
    "- provide some relevant background information on the topic so that someone unfamiliar with it will be prepared to understand the rest of your report\n",
    "\n",
    "- clearly state the question you tried to answer with your project\n",
    "\n",
    "- identify and describe the dataset that was used to answer the question"
   ]
  },
  {
   "cell_type": "markdown",
   "id": "2564195a-7ab1-407b-977a-94b91bc3db66",
   "metadata": {},
   "source": [
    "# Methods & Results"
   ]
  },
  {
   "cell_type": "markdown",
   "id": "103d9fe0-b9ba-4dba-8260-a5aba695f6e9",
   "metadata": {},
   "source": [
    "# Discussion"
   ]
  },
  {
   "cell_type": "markdown",
   "id": "c100e960-9a40-417e-84be-c52141f3759b",
   "metadata": {},
   "source": [
    "# References"
   ]
  },
  {
   "cell_type": "code",
   "execution_count": null,
   "id": "d9ec4053-3afc-4f51-b4b2-72d003dcba8f",
   "metadata": {},
   "outputs": [],
   "source": []
  }
 ],
 "metadata": {
  "kernelspec": {
   "display_name": "R",
   "language": "R",
   "name": "ir"
  },
  "language_info": {
   "codemirror_mode": "r",
   "file_extension": ".r",
   "mimetype": "text/x-r-source",
   "name": "R",
   "pygments_lexer": "r",
   "version": "4.1.3"
  }
 },
 "nbformat": 4,
 "nbformat_minor": 5
}
