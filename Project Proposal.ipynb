{
 "cells": [
  {
   "cell_type": "markdown",
   "id": "9d287f4d-6f6a-4a48-a0cf-17352d0f8d34",
   "metadata": {},
   "source": [
    "Each group is expected to prepare a 1 page (max 500 words) written proposal that identifies the dataset they plan to work on, as well as the question they would like to answer using that dataset for their group project. The proposal should be done in a Jupyter notebook and then submitted both as an .html file (File -> Download As -> HTML) and an .ipynb file that is reproducible (i.e. works and runs without any additional files.)"
   ]
  },
  {
   "cell_type": "markdown",
   "id": "aa73d0b0-563b-4038-82c6-a1d08383ed54",
   "metadata": {},
   "source": [
    "## Title: \n",
    "Analyzing the knowledge of users using the degree of study time for goal materials and exam performances of goal objects as predictors.  "
   ]
  },
  {
   "cell_type": "markdown",
   "id": "a9875efd-4cfd-4690-9759-a55c827ac294",
   "metadata": {},
   "source": [
    "## Introduction:\n",
    "####  - Provide some relevant background information on the topic so that someone unfamiliar with it will be prepared to understand the rest of your proposal\n",
    "Academic success is often determined by an individual’s performance on exams. While there are many factors that can influence exam performance, it is widely believed that studying is one of the most important. There is a present stigma that individuals who spend more time studying will perform better on exams than those who don’t study at all. However, the exact relationship between studying and exam performance is not well understood.    \n",
    "\n",
    "\n",
    "#### - Clearly state the question you will try to answer with your project\n",
    "Is there a relationship between the study time and exam performance?\n",
    "\n",
    "\n",
    "####  - Identify and describe the dataset that will be used to answer the question\n",
    "- The dataset used is the “User Knowledge Dataset” with 4 different databases from Cleveland, Hungary, Switzerland, and the VA Long Beach\n",
    "    \n",
    "    - This project would specialize in the Cleveland dataset \n",
    "    \n",
    "    \n",
    "- There are 76 attributes in this dataset, all listed underneath “attribute information”\n",
    "    \n",
    "    - This project would use 2 attributes from the dataset: (9)Chest Pain Type (typical angina, atypical angina, non-anginal pain, and asymptomatic) and (48) restwm: rest wall (sp?) motion abnormality (0=none, 1 = mild/moderate, 2=moderate/severe, and 3=akinesis/dyskmem)\n",
    "\n",
    "\n"
   ]
  },
  {
   "cell_type": "markdown",
   "id": "13cfb942-d232-4f8d-8e96-8fc2e8c3fabb",
   "metadata": {},
   "source": [
    "## Preliminary exploratory data analysis:\n",
    "\n",
    "#### - Demonstrate that the dataset can be read from the web into R \n",
    "- read_csv function with the dataset being the URL of the website\n",
    "\n",
    "#### - Clean and wrangle your data into a tidy format\n",
    "\n",
    "#### - Using only training data, summarize the data in at least one table (this is exploratory data analysis). An example of a useful table could be one that reports the number of observations in each class, the means of the predictor variables you plan to use in your analysis and how many rows have missing data. \n",
    "\n",
    "\n",
    "#### - Using only training data, visualize the data with at least one plot relevant to the analysis you plan to do (this is exploratory data analysis). An example of a useful visualization could be one that compares the distributions of each of the predictor variables you plan to use in your analysis."
   ]
  },
  {
   "cell_type": "markdown",
   "id": "432d43a0-6032-491c-9601-191002bba895",
   "metadata": {},
   "source": [
    "## Methods:\n",
    "\n",
    "#### - Explain how you will conduct either your data analysis and which variables/columns you will use. Note - you do not need to use all variables/columns that exist in the raw data set. In fact, that's often not a good idea. For each variable think: is this a useful variable for prediction?\n",
    "\n",
    "#### - Describe at least one way that you will visualize the results\n"
   ]
  },
  {
   "cell_type": "markdown",
   "id": "377503da-1b09-457c-801c-8789dfca3c6c",
   "metadata": {},
   "source": [
    "## Expected outcomes and significance: \n",
    "\n",
    "#### - What do you expect to find?\n",
    "We expect to find a correlation between the amount of time an individual studies and their performance of exams. For instance, individuals who do not study may have a bad exam performance.\n",
    "\n",
    "#### - What impact could such findings have?\n",
    "The impact of our findings would contribute greatly to finding the best and optimal amount of time to study while still maintaining a good exam performance on their goal.\n",
    "\n",
    "#### - What future questions could this lead to?\n",
    "Can we identify different learning styles that affect the correlation between studying and exam performance?\n",
    "How does the quality of studying (i.e. the material, environment, methods) affect exam performance?\n",
    "What other factors, besides studying, affect exam performance?\n"
   ]
  },
  {
   "cell_type": "code",
   "execution_count": null,
   "id": "2a78ca8b-a418-4d85-ac6c-54bde4bc7a33",
   "metadata": {},
   "outputs": [],
   "source": []
  }
 ],
 "metadata": {
  "kernelspec": {
   "display_name": "R",
   "language": "R",
   "name": "ir"
  },
  "language_info": {
   "codemirror_mode": "r",
   "file_extension": ".r",
   "mimetype": "text/x-r-source",
   "name": "R",
   "pygments_lexer": "r",
   "version": "4.1.3"
  }
 },
 "nbformat": 4,
 "nbformat_minor": 5
}
